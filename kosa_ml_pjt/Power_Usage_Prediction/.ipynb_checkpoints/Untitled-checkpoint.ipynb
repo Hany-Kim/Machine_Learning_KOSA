{
 "cells": [
  {
   "cell_type": "code",
   "execution_count": 1,
   "id": "9fd8e245-011a-41cc-b97b-5dd51ec1d96f",
   "metadata": {},
   "outputs": [],
   "source": [
    "import pandas as pd\n",
    "import matplotlib.pyplot as plt\n",
    "import seaborn as sns"
   ]
  },
  {
   "cell_type": "markdown",
   "id": "2371c56b-fd99-4808-a71e-7262dc509e90",
   "metadata": {},
   "source": [
    "# 1. 데이터 확인"
   ]
  },
  {
   "cell_type": "code",
   "execution_count": 14,
   "id": "bf5394f3-1eaa-4483-8578-3d7eb30b66fd",
   "metadata": {},
   "outputs": [],
   "source": [
    "train_df = pd.read_csv(\"train.csv\")\n",
    "building_info = pd.read_csv(\"building_info.csv\") #100개 건물 정보\n",
    "test_df = pd.read_csv(\"test.csv\")"
   ]
  },
  {
   "cell_type": "code",
   "execution_count": 5,
   "id": "0fc63139-794d-4249-a797-a4f9fa5606fe",
   "metadata": {},
   "outputs": [],
   "source": [
    "# 열 속성 이름 변환\n",
    "train_df = train_df.rename(columns={\n",
    "    '건물번호': 'building_number',\n",
    "    '일시': 'date_time',\n",
    "    '기온(C)': 'temperature',\n",
    "    '강수량(mm)': 'rainfall',\n",
    "    '풍속(m/s)': 'windspeed',\n",
    "    '습도(%)': 'humidity',\n",
    "    '일조(hr)': 'sunshine',\n",
    "    '일사(MJ/m2)': 'solar_radiation',\n",
    "    '전력소비량(kWh)': 'power_consumption'\n",
    "})"
   ]
  },
  {
   "cell_type": "code",
   "execution_count": 22,
   "id": "2ed17f04-0be6-4b51-a428-78199bcc2b02",
   "metadata": {},
   "outputs": [],
   "source": [
    "test_df = test_df.rename(columns={\n",
    "    '건물번호': 'building_number',\n",
    "    '일시': 'date_time',\n",
    "    '기온(C)': 'temperature',\n",
    "    '강수량(mm)': 'rainfall',\n",
    "    '풍속(m/s)': 'windspeed',\n",
    "    '습도(%)': 'humidity',\n",
    "    '일조(hr)': 'sunshine',\n",
    "    '일사(MJ/m2)': 'solar_radiation',\n",
    "    '전력소비량(kWh)': 'power_consumption'\n",
    "})"
   ]
  },
  {
   "cell_type": "code",
   "execution_count": 6,
   "id": "e6fdc919-e271-4259-9134-bb66a0368ba9",
   "metadata": {},
   "outputs": [
    {
     "name": "stdout",
     "output_type": "stream",
     "text": [
      "<class 'pandas.core.frame.DataFrame'>\n",
      "RangeIndex: 204000 entries, 0 to 203999\n",
      "Data columns (total 10 columns):\n",
      " #   Column             Non-Null Count   Dtype  \n",
      "---  ------             --------------   -----  \n",
      " 0   num_date_time      204000 non-null  object \n",
      " 1   building_number    204000 non-null  int64  \n",
      " 2   date_time          204000 non-null  object \n",
      " 3   temperature        204000 non-null  float64\n",
      " 4   rainfall           43931 non-null   float64\n",
      " 5   windspeed          203981 non-null  float64\n",
      " 6   humidity           203991 non-null  float64\n",
      " 7   sunshine           128818 non-null  float64\n",
      " 8   solar_radiation    116087 non-null  float64\n",
      " 9   power_consumption  204000 non-null  float64\n",
      "dtypes: float64(7), int64(1), object(2)\n",
      "memory usage: 15.6+ MB\n"
     ]
    }
   ],
   "source": [
    "train_df.info()"
   ]
  },
  {
   "cell_type": "code",
   "execution_count": 11,
   "id": "500b56f5-db37-4778-9ce6-80f40d9e7e45",
   "metadata": {},
   "outputs": [],
   "source": [
    "# drop num date time == dndt\n",
    "train_df_dndt = train_df.iloc[:, 1:]"
   ]
  },
  {
   "cell_type": "code",
   "execution_count": 23,
   "id": "c3d6652b-ed44-4f77-bb89-1404820a8501",
   "metadata": {},
   "outputs": [],
   "source": [
    "# drop num date time == dndt\n",
    "test_df_dndt = test_df.iloc[:, 1:]"
   ]
  },
  {
   "cell_type": "code",
   "execution_count": 12,
   "id": "0c006111-9385-4c23-a18d-ef865c5b3f06",
   "metadata": {},
   "outputs": [
    {
     "name": "stdout",
     "output_type": "stream",
     "text": [
      "<class 'pandas.core.frame.DataFrame'>\n",
      "RangeIndex: 204000 entries, 0 to 203999\n",
      "Data columns (total 9 columns):\n",
      " #   Column             Non-Null Count   Dtype  \n",
      "---  ------             --------------   -----  \n",
      " 0   building_number    204000 non-null  int64  \n",
      " 1   date_time          204000 non-null  object \n",
      " 2   temperature        204000 non-null  float64\n",
      " 3   rainfall           43931 non-null   float64\n",
      " 4   windspeed          203981 non-null  float64\n",
      " 5   humidity           203991 non-null  float64\n",
      " 6   sunshine           128818 non-null  float64\n",
      " 7   solar_radiation    116087 non-null  float64\n",
      " 8   power_consumption  204000 non-null  float64\n",
      "dtypes: float64(7), int64(1), object(1)\n",
      "memory usage: 14.0+ MB\n"
     ]
    }
   ],
   "source": [
    "train_df_dndt.info()"
   ]
  },
  {
   "cell_type": "code",
   "execution_count": 15,
   "id": "caf49e48-263b-400f-8b7a-81a9db292cbd",
   "metadata": {},
   "outputs": [],
   "source": [
    "# 열 속성 이름 변환\n",
    "building_info = building_info.rename(columns={\n",
    "    '건물번호': 'building_number',\n",
    "    '건물유형': 'building_type',\n",
    "    '연면적(m2)': 'total_area',\n",
    "    '냉방면적(m2)': 'cooling_area',\n",
    "    '태양광용량(kW)': 'solar_power_capacity',\n",
    "    'ESS저장용량(kWh)': 'ess_capacity',\n",
    "    'PCS용량(kW)': 'pcs_capacity'\n",
    "})"
   ]
  },
  {
   "cell_type": "code",
   "execution_count": 18,
   "id": "d5c459ff-f193-4b89-9ff2-897821d48fae",
   "metadata": {},
   "outputs": [],
   "source": [
    "translation_dict = {\n",
    "    '건물기타': 'Other Buildings',\n",
    "    '공공': 'Public',\n",
    "    '대학교': 'University',\n",
    "    '데이터센터': 'Data Center',\n",
    "    '백화점및아울렛': 'Department Store and Outlet',\n",
    "    '병원': 'Hospital',\n",
    "    '상용': 'Commercial',\n",
    "    '아파트': 'Apartment',\n",
    "    '연구소': 'Research Institute',\n",
    "    '지식산업센터': 'Knowledge Industry Center',\n",
    "    '할인마트': 'Discount Mart',\n",
    "    '호텔및리조트': 'Hotel and Resort'\n",
    "}\n",
    "\n",
    "building_info['building_type'] = building_info['building_type'].replace(translation_dict)"
   ]
  },
  {
   "cell_type": "code",
   "execution_count": 19,
   "id": "e3f5222f-9421-4d35-8adb-c95c72d31fc2",
   "metadata": {},
   "outputs": [
    {
     "data": {
      "text/html": [
       "<div>\n",
       "<style scoped>\n",
       "    .dataframe tbody tr th:only-of-type {\n",
       "        vertical-align: middle;\n",
       "    }\n",
       "\n",
       "    .dataframe tbody tr th {\n",
       "        vertical-align: top;\n",
       "    }\n",
       "\n",
       "    .dataframe thead th {\n",
       "        text-align: right;\n",
       "    }\n",
       "</style>\n",
       "<table border=\"1\" class=\"dataframe\">\n",
       "  <thead>\n",
       "    <tr style=\"text-align: right;\">\n",
       "      <th></th>\n",
       "      <th>building_number</th>\n",
       "      <th>building_type</th>\n",
       "      <th>total_area</th>\n",
       "      <th>cooling_area</th>\n",
       "      <th>solar_power_capacity</th>\n",
       "      <th>ess_capacity</th>\n",
       "      <th>pcs_capacity</th>\n",
       "    </tr>\n",
       "  </thead>\n",
       "  <tbody>\n",
       "    <tr>\n",
       "      <th>0</th>\n",
       "      <td>1</td>\n",
       "      <td>Other Buildings</td>\n",
       "      <td>110634.00</td>\n",
       "      <td>39570.00</td>\n",
       "      <td>-</td>\n",
       "      <td>-</td>\n",
       "      <td>-</td>\n",
       "    </tr>\n",
       "    <tr>\n",
       "      <th>1</th>\n",
       "      <td>2</td>\n",
       "      <td>Other Buildings</td>\n",
       "      <td>122233.47</td>\n",
       "      <td>99000.00</td>\n",
       "      <td>-</td>\n",
       "      <td>-</td>\n",
       "      <td>-</td>\n",
       "    </tr>\n",
       "    <tr>\n",
       "      <th>2</th>\n",
       "      <td>3</td>\n",
       "      <td>Other Buildings</td>\n",
       "      <td>171243.00</td>\n",
       "      <td>113950.00</td>\n",
       "      <td>40</td>\n",
       "      <td>-</td>\n",
       "      <td>-</td>\n",
       "    </tr>\n",
       "    <tr>\n",
       "      <th>3</th>\n",
       "      <td>4</td>\n",
       "      <td>Other Buildings</td>\n",
       "      <td>74312.98</td>\n",
       "      <td>34419.62</td>\n",
       "      <td>60</td>\n",
       "      <td>-</td>\n",
       "      <td>-</td>\n",
       "    </tr>\n",
       "    <tr>\n",
       "      <th>4</th>\n",
       "      <td>5</td>\n",
       "      <td>Other Buildings</td>\n",
       "      <td>205884.00</td>\n",
       "      <td>150000.00</td>\n",
       "      <td>-</td>\n",
       "      <td>2557</td>\n",
       "      <td>1000</td>\n",
       "    </tr>\n",
       "  </tbody>\n",
       "</table>\n",
       "</div>"
      ],
      "text/plain": [
       "   building_number    building_type  total_area  cooling_area  \\\n",
       "0                1  Other Buildings   110634.00      39570.00   \n",
       "1                2  Other Buildings   122233.47      99000.00   \n",
       "2                3  Other Buildings   171243.00     113950.00   \n",
       "3                4  Other Buildings    74312.98      34419.62   \n",
       "4                5  Other Buildings   205884.00     150000.00   \n",
       "\n",
       "  solar_power_capacity ess_capacity pcs_capacity  \n",
       "0                    -            -            -  \n",
       "1                    -            -            -  \n",
       "2                   40            -            -  \n",
       "3                   60            -            -  \n",
       "4                    -         2557         1000  "
      ]
     },
     "execution_count": 19,
     "metadata": {},
     "output_type": "execute_result"
    }
   ],
   "source": [
    "building_info.head()"
   ]
  },
  {
   "cell_type": "code",
   "execution_count": 24,
   "id": "350711fb-2763-48ef-bcc6-1b0620c13ac2",
   "metadata": {},
   "outputs": [],
   "source": [
    "train_df_dndt = pd.merge(train_df_dndt, building_info, on='building_number', how='left')\n",
    "test_df_dndt = pd.merge(test_df_dndt, building_info, on='building_number', how='left')"
   ]
  },
  {
   "cell_type": "code",
   "execution_count": 26,
   "id": "ff230b33-d9e7-4174-b7e7-d6d71fbff978",
   "metadata": {},
   "outputs": [
    {
     "data": {
      "text/plain": [
       "204000"
      ]
     },
     "execution_count": 26,
     "metadata": {},
     "output_type": "execute_result"
    }
   ],
   "source": [
    "len(train_df_dndt)"
   ]
  },
  {
   "cell_type": "code",
   "execution_count": 32,
   "id": "ee81d4ac-a132-42b4-baa8-55be161a0915",
   "metadata": {},
   "outputs": [
    {
     "data": {
      "text/plain": [
       "16800"
      ]
     },
     "execution_count": 32,
     "metadata": {},
     "output_type": "execute_result"
    }
   ],
   "source": [
    "len(test_df_dndt)"
   ]
  },
  {
   "cell_type": "code",
   "execution_count": 27,
   "id": "b1ab1011-58bb-4a35-b2d5-f3b3167a0163",
   "metadata": {},
   "outputs": [
    {
     "data": {
      "text/plain": [
       "building_number              0\n",
       "date_time                    0\n",
       "temperature                  0\n",
       "rainfall                160069\n",
       "windspeed                   19\n",
       "humidity                     9\n",
       "sunshine                 75182\n",
       "solar_radiation          87913\n",
       "power_consumption            0\n",
       "building_type                0\n",
       "total_area                   0\n",
       "cooling_area                 0\n",
       "solar_power_capacity         0\n",
       "ess_capacity                 0\n",
       "pcs_capacity                 0\n",
       "dtype: int64"
      ]
     },
     "execution_count": 27,
     "metadata": {},
     "output_type": "execute_result"
    }
   ],
   "source": [
    "# 결측치 확인\n",
    "train_df_dndt.isna().sum()"
   ]
  },
  {
   "cell_type": "code",
   "execution_count": 28,
   "id": "29997ddb-cfcd-4a79-b279-ac4d1807e6a2",
   "metadata": {},
   "outputs": [
    {
     "data": {
      "text/plain": [
       "building_number         0\n",
       "date_time               0\n",
       "temperature             0\n",
       "rainfall                0\n",
       "windspeed               0\n",
       "humidity                0\n",
       "building_type           0\n",
       "total_area              0\n",
       "cooling_area            0\n",
       "solar_power_capacity    0\n",
       "ess_capacity            0\n",
       "pcs_capacity            0\n",
       "dtype: int64"
      ]
     },
     "execution_count": 28,
     "metadata": {},
     "output_type": "execute_result"
    }
   ],
   "source": [
    "test_df_dndt.isna().sum()"
   ]
  },
  {
   "cell_type": "code",
   "execution_count": 31,
   "id": "51893a6f-b8e4-428e-b8a3-c2b78c55c76a",
   "metadata": {},
   "outputs": [
    {
     "name": "stdout",
     "output_type": "stream",
     "text": [
      "130560\n",
      "193800\n",
      "193800\n"
     ]
    }
   ],
   "source": [
    "print(len(train_df_dndt[train_df_dndt['solar_power_capacity'] == '-']))\n",
    "print(len(train_df_dndt[train_df_dndt['ess_capacity'] == '-']))\n",
    "print(len(train_df_dndt[train_df_dndt['pcs_capacity'] == '-']))"
   ]
  },
  {
   "cell_type": "code",
   "execution_count": null,
   "id": "2814b75e-3b11-466c-a8af-b89c69c1a240",
   "metadata": {},
   "outputs": [],
   "source": []
  }
 ],
 "metadata": {
  "kernelspec": {
   "display_name": "Python 3 (ipykernel)",
   "language": "python",
   "name": "python3"
  },
  "language_info": {
   "codemirror_mode": {
    "name": "ipython",
    "version": 3
   },
   "file_extension": ".py",
   "mimetype": "text/x-python",
   "name": "python",
   "nbconvert_exporter": "python",
   "pygments_lexer": "ipython3",
   "version": "3.11.7"
  }
 },
 "nbformat": 4,
 "nbformat_minor": 5
}
